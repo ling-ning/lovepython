{
 "cells": [
  {
   "cell_type": "code",
   "execution_count": 1,
   "metadata": {},
   "outputs": [
    {
     "name": "stdout",
     "output_type": "stream",
     "text": [
      "i love lixiaojing\n"
     ]
    }
   ],
   "source": [
    "s = \"i love lixiaojing\"\n",
    "print(s) \n",
    "# 这就是一个变量的声明，生成了一个变量s"
   ]
  },
  {
   "cell_type": "markdown",
   "metadata": {},
   "source": [
    "# 变量类型\n",
    "- 严格意义上讲，python只有一个类型：\n",
    "- 标准数据类型六种：\n",
    "    - 数字Number\n",
    "    - 字符串类型str\n",
    "    - 列表list\n",
    "    - 元组tuple\n",
    "    - 字典dict\n",
    "    - 集合set"
   ]
  },
  {
   "cell_type": "markdown",
   "metadata": {},
   "source": [
    "# 数字类型Number\n",
    "- python中的数字没有大小限制\n",
    "\n",
    "## 常见数字类型\n",
    "- 整数\n",
    "    - 没有小数部分\n",
    "    - 包含正数、负数、0\n",
    "    - 二进制\n",
    "        - 只有0和1\n",
    "        - 以0b开头的01串，一般就是二进制\n",
    "        - 例如：\n",
    "            - 0b110\n",
    "            - 0b11110\n",
    "    - 八进制\n",
    "        - 以0o开头的0到7之间的数字串\n",
    "        - 例如：\n",
    "            - 0o71\n",
    "    - 十六进制\n",
    "        - 以0x组成的，由0-9，a-f构成的串   \n",
    "- 浮点数\n",
    "    - 就是通俗意义上的小数\n",
    "    - 常见的案例格式\n",
    "        - 3.14159\n",
    "        - 3.\n",
    "        - 0.5\n",
    "        - .4\n",
    "- 科学计数法\n",
    "    - 定义同数学定义一致\n",
    "    - 写法就是e后面跟整数用来表示10的指数\n",
    "- 复数complex\n",
    "    - 一般情况下，没有复数一说\n",
    "    - 同数学上的定义时一致的"
   ]
  },
  {
   "cell_type": "code",
   "execution_count": 2,
   "metadata": {},
   "outputs": [
    {
     "name": "stdout",
     "output_type": "stream",
     "text": [
      "30\n",
      "6\n"
     ]
    }
   ],
   "source": [
    "# 二进制定义\n",
    "a1 = 0b11110\n",
    "print(a1)\n",
    "\n",
    "a2 = 0b110\n",
    "print(a2)"
   ]
  },
  {
   "cell_type": "code",
   "execution_count": 3,
   "metadata": {},
   "outputs": [
    {
     "name": "stdout",
     "output_type": "stream",
     "text": [
      "57\n"
     ]
    }
   ],
   "source": [
    "# 八进制定义\n",
    "a1 = 0o71\n",
    "print(0o71)"
   ]
  },
  {
   "cell_type": "code",
   "execution_count": 4,
   "metadata": {},
   "outputs": [
    {
     "name": "stdout",
     "output_type": "stream",
     "text": [
      "65535\n",
      "21490\n"
     ]
    }
   ],
   "source": [
    "# 十六进制定义\n",
    "a1 = 0xffff\n",
    "print(a1)\n",
    "\n",
    "a2 = 0x53f2\n",
    "print(a2)"
   ]
  },
  {
   "cell_type": "code",
   "execution_count": 5,
   "metadata": {},
   "outputs": [
    {
     "name": "stdout",
     "output_type": "stream",
     "text": [
      "184.0\n"
     ]
    }
   ],
   "source": [
    "# 科学计数法\n",
    "heigh = 1.84e2\n",
    "print(heigh)"
   ]
  },
  {
   "cell_type": "markdown",
   "metadata": {},
   "source": [
    "# 布尔值\n",
    "- 布尔值就是用来表示真假的值\n",
    "- 只有两个值：Ture/False\n",
    "    - 在python中，布尔值可以当数字使用，Ture=1，False=0\n",
    "    - 如果数字用来当做布尔值使用，0=False，其余当做True"
   ]
  },
  {
   "cell_type": "code",
   "execution_count": 6,
   "metadata": {},
   "outputs": [
    {
     "name": "stdout",
     "output_type": "stream",
     "text": [
      "19\n",
      "18\n"
     ]
    }
   ],
   "source": [
    "# 布尔值当做数字使用\n",
    "\n",
    "age = 18 + True\n",
    "print(age)\n",
    "\n",
    "age = 18 + False\n",
    "print(age)"
   ]
  },
  {
   "cell_type": "markdown",
   "metadata": {},
   "source": [
    "# str字符串\n",
    "- 表达文字信息的内容，比如“我爱王晓静”\n",
    "- 形式上是引号引起来的一段内容\n",
    "- 引号包括\n",
    "    - 单引号\n",
    "    - 双引号\n",
    "    - 三引号，可以用来表示多行信息\n",
    "- 双引号和单引号意思一致\n",
    "- 转义字符\n",
    "- 格式化\n",
    "- 内建函数（后延）"
   ]
  },
  {
   "cell_type": "code",
   "execution_count": 7,
   "metadata": {},
   "outputs": [
    {
     "name": "stdout",
     "output_type": "stream",
     "text": [
      "Ich liebe wangxiaojing\n"
     ]
    }
   ],
   "source": [
    "# 字符串案例\n",
    "love = \"Ich liebe wangxiaojing\"\n",
    "print(love)"
   ]
  },
  {
   "cell_type": "code",
   "execution_count": 8,
   "metadata": {},
   "outputs": [
    {
     "name": "stdout",
     "output_type": "stream",
     "text": [
      "我\n",
      "爱你啊\n",
      "王晓静\n",
      "就像爱着北国的雪\n",
      "\n"
     ]
    }
   ],
   "source": [
    "# 三引号表示多行\n",
    "love = \"\"\"我\n",
    "爱你啊\n",
    "王晓静\n",
    "就像爱着北国的雪\n",
    "\"\"\"\n",
    "print(love)"
   ]
  },
  {
   "cell_type": "markdown",
   "metadata": {},
   "source": [
    "## 转义字符\n",
    "- 用一个特殊的方法表示出一系列不方便写出的内容，比如回车键，换行键，退格键\n",
    "- 借助反斜杠字符，一旦字符串中出现反斜杠，则反斜杠后面一个或几个字符表示已经不是原来的意思了，进行了转义\n",
    "- 在字符串中，一旦出现反斜杠就要加倍小心，可能有转义字符出现\n",
    "- 不同系统对换行操作有不同的表示\n",
    "    - windows： \\n 换行\n",
    "    - Linux: \\r\\n  换行"
   ]
  },
  {
   "cell_type": "code",
   "execution_count": 9,
   "metadata": {},
   "outputs": [
    {
     "name": "stdout",
     "output_type": "stream",
     "text": [
      "Let's go\n",
      "Let's go\n",
      "c:\\user\n",
      "I \n",
      "love \n",
      "wangixoajing\n"
     ]
    }
   ],
   "source": [
    "# 转义字符案例\n",
    "# 如果想表示出Let‘s go\n",
    "# 1.可以使用嵌套引号，即外层使用双引号\n",
    "# 2.转义字符\n",
    "s = \"Let's go\"\n",
    "print(s)\n",
    "\n",
    "ss = 'Let\\'s go'\n",
    "print(ss)\n",
    "\n",
    "# 表示斜杠\n",
    "# \\\\ = \\\n",
    "sss = \"c:\\\\user\"\n",
    "print(sss)\n",
    "\n",
    "# 回车换行符\n",
    "s1 = \"I \\nlove \\nwangixoajing\"\n",
    "print(s1)"
   ]
  },
  {
   "cell_type": "code",
   "execution_count": 10,
   "metadata": {},
   "outputs": [
    {
     "name": "stdout",
     "output_type": "stream",
     "text": [
      "hahahhahahhaha\n"
     ]
    }
   ],
   "source": [
    "# 单个斜杠的用法\n",
    "# 在python里，单个反斜杠表示此行未结束，出于美观，需要下一行继续\n",
    "# 理论上应该写成def myDemo(x,y,z):\n",
    "def myDemo(x,\\\n",
    "          y,\\\n",
    "          z):\n",
    "    print(\"hahahhahahhaha\")\n",
    "myDemo(1,2,3)"
   ]
  },
  {
   "cell_type": "markdown",
   "metadata": {},
   "source": [
    "## 字符串的格式化\n",
    "- 把字符串按照一定格式打印或者填充\n",
    "- 格式化由两种方法\n",
    "    - 传统格式化，利用百分号（%）进行格式化\n",
    "    - 利用format函数"
   ]
  },
  {
   "cell_type": "markdown",
   "metadata": {},
   "source": [
    "### 传统格式化方法\n",
    "- 使用%进行格式化\n",
    "- %（百分号）也叫占位符"
   ]
  },
  {
   "cell_type": "code",
   "execution_count": 11,
   "metadata": {},
   "outputs": [
    {
     "name": "stdout",
     "output_type": "stream",
     "text": [
      "I love 王晓静\n",
      "I love %s\n"
     ]
    }
   ],
   "source": [
    "# %s表示简单的字符串\n",
    "# 占位符可以单独使用\n",
    "s = \"I love %s\"\n",
    "print(s%\"王晓静\")\n",
    "print(s)"
   ]
  },
  {
   "cell_type": "code",
   "execution_count": 12,
   "metadata": {},
   "outputs": [
    {
     "name": "stdout",
     "output_type": "stream",
     "text": [
      "I love wangxiaojing\n",
      "I love 100\n"
     ]
    }
   ],
   "source": [
    "print(\"I love %s\"%\"wangxiaojing\")\n",
    "# 占位符一般只能被同类型替换，或者替换类型能被转换成占位符的类型\n",
    "# 下面这个案例属于特例\n",
    "print(\"I love %s\"%100)"
   ]
  },
  {
   "cell_type": "code",
   "execution_count": 13,
   "metadata": {},
   "outputs": [
    {
     "name": "stdout",
     "output_type": "stream",
     "text": [
      "刘大拿今年 19 岁了，他长得好做旧\n"
     ]
    }
   ],
   "source": [
    "s = \"刘大拿今年 %d 岁了，他长得好做旧\"\n",
    "print(s%19)"
   ]
  },
  {
   "cell_type": "code",
   "execution_count": 14,
   "metadata": {},
   "outputs": [
    {
     "ename": "TypeError",
     "evalue": "%d format: a number is required, not str",
     "output_type": "error",
     "traceback": [
      "\u001b[1;31m---------------------------------------------------------------------------\u001b[0m",
      "\u001b[1;31mTypeError\u001b[0m                                 Traceback (most recent call last)",
      "\u001b[1;32m<ipython-input-14-16fa3b4ddbb7>\u001b[0m in \u001b[0;36m<module>\u001b[1;34m\u001b[0m\n\u001b[0;32m      1\u001b[0m \u001b[0ms\u001b[0m \u001b[1;33m=\u001b[0m \u001b[1;34m\"刘大拿今年 %d 岁了，他长得好做旧\"\u001b[0m\u001b[1;33m\u001b[0m\u001b[1;33m\u001b[0m\u001b[0m\n\u001b[1;32m----> 2\u001b[1;33m \u001b[0mprint\u001b[0m\u001b[1;33m(\u001b[0m\u001b[0ms\u001b[0m\u001b[1;33m%\u001b[0m\u001b[1;34m\"19\"\u001b[0m\u001b[1;33m)\u001b[0m\u001b[1;33m\u001b[0m\u001b[1;33m\u001b[0m\u001b[0m\n\u001b[0m\u001b[0;32m      3\u001b[0m \u001b[1;31m# 字符串不容易被转换成整数，所以不能替换，会报错\u001b[0m\u001b[1;33m\u001b[0m\u001b[1;33m\u001b[0m\u001b[1;33m\u001b[0m\u001b[0m\n",
      "\u001b[1;31mTypeError\u001b[0m: %d format: a number is required, not str"
     ]
    }
   ],
   "source": [
    "s = \"刘大拿今年 %d 岁了，他长得好做旧\"\n",
    "print(s%\"19\")\n",
    "# 字符串不容易被转换成整数，所以不能替换，会报错"
   ]
  },
  {
   "cell_type": "code",
   "execution_count": null,
   "metadata": {},
   "outputs": [],
   "source": [
    "s = \"I am %d years old\"\n",
    "# 留意下面两句话的区别和结果\n",
    "print(s)\n",
    "print(s%18)"
   ]
  },
  {
   "cell_type": "code",
   "execution_count": null,
   "metadata": {},
   "outputs": [],
   "source": [
    "s = \"I am %s, i am %d years old\"\n",
    "print(s)\n",
    "# 注意以下表达的出错原因\n",
    "# 如果字符串中由占位符，则由几个占位符必须用几个实际内容代替，或者一个也不要\n",
    "# 如果出现多个占位符，则相应内容需要用括号括起来\n",
    "\n",
    "print(s%(\"tulingxueyuan\", 18))"
   ]
  },
  {
   "cell_type": "markdown",
   "metadata": {},
   "source": [
    "### format格式化\n",
    "- 使用函数形式进行格式化，代替以前百分号\n",
    "- 推荐使用这种方法\n",
    "- 在使用上，以{}和：代替%号，后面用format带参数完成"
   ]
  },
  {
   "cell_type": "code",
   "execution_count": null,
   "metadata": {},
   "outputs": [],
   "source": [
    "# 不用指定位置，按顺序读取\n",
    "# 方式1\n",
    "s = \"{},{}!\"\n",
    "print(s.format(\"hello\",\"world\"))\n",
    "\n",
    "# 方式2\n",
    "s = \"{},{}!\".format(\"hello\",\"world\")\n",
    "print(s)"
   ]
  },
  {
   "cell_type": "code",
   "execution_count": null,
   "metadata": {},
   "outputs": [],
   "source": [
    "# 设定指定位置\n",
    "s = \"{1},{1}!\".format(\"hello\",\"world\")\n",
    "print(s)\n",
    "# 一旦确定了位置就可以不按顺序"
   ]
  },
  {
   "cell_type": "code",
   "execution_count": null,
   "metadata": {},
   "outputs": [],
   "source": [
    "# 设定指定位置\n",
    "s = \"I love {0} and {0} love me\".format(\"王晓静\")\n",
    "print(s)"
   ]
  },
  {
   "cell_type": "code",
   "execution_count": null,
   "metadata": {},
   "outputs": [],
   "source": [
    "# 和上面对比一下\n",
    "s = \"I love {} and {} love me\".format(\"王晓静\")\n",
    "print(s)"
   ]
  },
  {
   "cell_type": "code",
   "execution_count": null,
   "metadata": {},
   "outputs": [],
   "source": [
    "# 使用命名参数\n",
    "s = \"我们是{school_name}，我们的网址是{url}，{teacher}最帅!\"\n",
    "s = s.format(school_name=\"北京图灵学院\",url=\"www.tulingxueyuan.com\",teacher=\"刘大拿\")\n",
    "print(s)"
   ]
  },
  {
   "cell_type": "code",
   "execution_count": null,
   "metadata": {},
   "outputs": [],
   "source": [
    "# 对数字的格式化需要用到\n",
    "s = \"liu Dana is {:.2f}m heigh, {:.2f}KG weight.\"\n",
    "print(s.format(1.84,76.45))"
   ]
  },
  {
   "cell_type": "markdown",
   "metadata": {},
   "source": [
    "## str内置函数\n",
    "- 很多语言字符串使用string表示，但是python中str表示字符串"
   ]
  },
  {
   "cell_type": "code",
   "execution_count": null,
   "metadata": {},
   "outputs": [],
   "source": [
    "help(str)"
   ]
  },
  {
   "cell_type": "markdown",
   "metadata": {},
   "source": [
    "# None\n",
    "- 表示什么都没有，通常用来占位\n",
    "- 如果函数没有返回值，可以返回 None"
   ]
  },
  {
   "cell_type": "markdown",
   "metadata": {},
   "source": [
    "# 表达式\n",
    "- 由一个或者几个数字或者变量和运算符组合成的一行代码\n",
    "- 通常会返回一个结果"
   ]
  },
  {
   "cell_type": "code",
   "execution_count": null,
   "metadata": {},
   "outputs": [],
   "source": [
    "# 表达式案例\n",
    "a = 1 + 2\n",
    "print(a)"
   ]
  },
  {
   "cell_type": "markdown",
   "metadata": {},
   "source": [
    "## 运算符\n",
    "- 由一个以上的值经过变化得到新值的过程就叫运算\n",
    "- 用于运算的符号叫运算符\n",
    "- 运算符分类：\n",
    "    - 算数运算符\n",
    "    - 比较或者关系运算符\n",
    "    - 赋值运算符\n",
    "    - 逻辑运算符\n",
    "    - 位运算符\n",
    "    - 成员运算符\n",
    "    - 身份运算符"
   ]
  },
  {
   "cell_type": "markdown",
   "metadata": {},
   "source": [
    "### 算数运算符\n",
    "- 进行算数运算的符号\n",
    "- 通常用来表示加减乘除\n",
    "- python没有自增自减运算符"
   ]
  },
  {
   "cell_type": "code",
   "execution_count": null,
   "metadata": {},
   "outputs": [],
   "source": [
    "# 算数运算符案例\n",
    "# 加减乘跟数学意义基本一致\n",
    "a = 9 + 3 - 2\n",
    "print(a)\n",
    "\n",
    "# 乘号用星号（*）代替\n",
    "a = 9 * 4\n",
    "print(a)"
   ]
  },
  {
   "cell_type": "code",
   "execution_count": null,
   "metadata": {},
   "outputs": [],
   "source": [
    "# 除号用斜杠（/）代替\n",
    "# 在Python2.x 和python3.x 中，除号（/）结果可能不一致，此处以3系列为准\n",
    "a = 9/4\n",
    "print(a)"
   ]
  },
  {
   "cell_type": "code",
   "execution_count": null,
   "metadata": {},
   "outputs": [],
   "source": [
    "# （%）取余运算，只会得到余数\n",
    "# 两个数字相除应该有商数有余数\n",
    "a = 9 % 4\n",
    "print(a)\n",
    "\n",
    "# // 表示取商运算，也叫地板除，取整\n",
    "a = 9 // 4\n",
    "print(a)"
   ]
  },
  {
   "cell_type": "code",
   "execution_count": null,
   "metadata": {},
   "outputs": [],
   "source": [
    "# ** 表示幂运算\n",
    "a = 9 ** 4\n",
    "print(a)\n",
    "\n",
    "a = 3 ** 3\n",
    "print(a)"
   ]
  },
  {
   "cell_type": "markdown",
   "metadata": {},
   "source": [
    "### 比较运算符\n",
    "- 对两个内容进行比较的运算符\n",
    "- 比较的结果是布尔值，即True/False"
   ]
  },
  {
   "cell_type": "code",
   "execution_count": null,
   "metadata": {},
   "outputs": [],
   "source": [
    "# 等于“==”\n",
    "# 下面语句执行书序是\n",
    "# 1.计算 3 == 80\n",
    "# 2.把结果放入b中\n",
    "b = 3 == 80\n",
    "print(b)"
   ]
  },
  {
   "cell_type": "code",
   "execution_count": null,
   "metadata": {},
   "outputs": [],
   "source": [
    "# 不等于“!=” \n",
    "print( 9 != 8 )"
   ]
  },
  {
   "cell_type": "markdown",
   "metadata": {},
   "source": [
    "-   > 大于\n",
    "-   < 小于\n",
    "-   >= 大于等于\n",
    "-   <= 小于等于"
   ]
  },
  {
   "cell_type": "markdown",
   "metadata": {},
   "source": [
    "### 赋值运算符\n",
    "- 把一个值放到变量里边去\n",
    "- 优先级最低，是最后执行的命令"
   ]
  },
  {
   "cell_type": "code",
   "execution_count": null,
   "metadata": {},
   "outputs": [],
   "source": [
    "# 赋值符号“=”\n",
    "a = 0\n",
    "\n",
    "# 复杂赋值\n",
    "c = a = 4\n",
    "a,b = 1,2\n",
    "\n",
    "# 赋值的缩写“+=”\n",
    "a = 0  # 先要给a赋一个值\n",
    "a += 7 # 是 a = a+ 7 的缩写\n",
    "print(a)"
   ]
  },
  {
   "cell_type": "code",
   "execution_count": null,
   "metadata": {},
   "outputs": [],
   "source": [
    "# 所有数学运算符都有缩写形式\n",
    "# -=， *=， /=, //=, %=, **=,都是缩写形式\n",
    "# python里面没有++，--"
   ]
  },
  {
   "cell_type": "markdown",
   "metadata": {},
   "source": [
    "### 逻辑运算符\n",
    "- 对布尔类型变量或者值进行运算的符号\n",
    "- and：逻辑“与”\n",
    "- or：逻辑“或”\n",
    "- not：逻辑“非”\n",
    "- python中逻辑运算没有“异或”运算\n",
    "- 运算规则：\n",
    "    - and看做乘法，or看做加法，\n",
    "    - True是1， False是0\n",
    "    - 则逻辑运算就能转换成整数数学运算\n",
    "    - 数字转成布尔值的时候，0是False，其余为True\n",
    "- 逻辑运算的短路问题\n",
    "    - 逻辑运算式，按照运算顺序计算，一旦能够确定整个式子未来的值，则不再进行计算，直接返回"
   ]
  },
  {
   "cell_type": "code",
   "execution_count": null,
   "metadata": {},
   "outputs": [],
   "source": [
    "# 逻辑运算符案例\n",
    "a = True\n",
    "b = False\n",
    "c = True\n",
    "\n",
    "# 以下式子等价于 d = 1 * 0 + 1\n",
    "d = a and b or c\n",
    "print(d)\n",
    "\n",
    "d = a or b and a\n",
    "print(d)"
   ]
  },
  {
   "cell_type": "code",
   "execution_count": null,
   "metadata": {},
   "outputs": [],
   "source": [
    "# 逻辑运算的短路案例\n",
    "# 下面的逻辑表达式，a的值一定是True，则运行到or的时候，整个表达式不在向下计算\n",
    "a = True \n",
    "b = True\n",
    "c = False\n",
    "\n",
    "aa = a or b and (a and b) #转换成算数 1+.....\n",
    "print(aa)"
   ]
  },
  {
   "cell_type": "markdown",
   "metadata": {},
   "source": [
    "### 成员运算符\n",
    "- 用来检测一个值或者变量是否在某个集合里面\n",
    "- in：成员运算符\n",
    "- not in：不在里面的意思"
   ]
  },
  {
   "cell_type": "code",
   "execution_count": 15,
   "metadata": {},
   "outputs": [
    {
     "name": "stdout",
     "output_type": "stream",
     "text": [
      "False\n",
      "True\n",
      "False\n"
     ]
    }
   ],
   "source": [
    "# in案例\n",
    "l = [1,2,3,4,5]\n",
    "a = 7\n",
    "\n",
    "b = a in l\n",
    "print(b)\n",
    "\n",
    "a = 4\n",
    "print(a in l)\n",
    "print(a not in l)"
   ]
  },
  {
   "cell_type": "markdown",
   "metadata": {},
   "source": [
    "### 身份运算符\n",
    "- 用来检测两个变量是否是同一个变量\n",
    "- is：变量运算符\n",
    "    - 语法就是 var1 is var2 \n",
    "- is not: 不是"
   ]
  },
  {
   "cell_type": "code",
   "execution_count": 16,
   "metadata": {},
   "outputs": [
    {
     "name": "stdout",
     "output_type": "stream",
     "text": [
      "True\n",
      "False\n"
     ]
    }
   ],
   "source": [
    "# a,b仅仅是值一样，并不代表a,b是一个变量\n",
    "a = 9\n",
    "b = 9\n",
    "print( a is b)\n",
    "\n",
    "a = \"I love wangxiaojing\"\n",
    "b = \"I love wangxiaojing\"\n",
    "print( a is b)"
   ]
  },
  {
   "cell_type": "markdown",
   "metadata": {},
   "source": [
    "## 运算符的优先级问题\n",
    "- 永远记住，小括号具有最高优先级\n",
    "- 优先级表格\n",
    "\n",
    "        **  指数运算符 (最高优先级)\n",
    "        ~ + -   按位翻转（位预算符）, 一元加号和减号 (最后两个的方法名为 +@ 和 -@)\n",
    "        * / % //    乘，除，取模和取整除\n",
    "        + -     加减\n",
    "        >> <<   右移，左移运算符\n",
    "        &   位 'AND'\n",
    "        ^ | 位运算符\n",
    "        <= < > >=   比较运算符\n",
    "        <> == !=    等于运算符\n",
    "        = %= /= //= -= += *= **=    赋值运算符\n",
    "        is is not   身份运算符\n",
    "        in not in   成员运算符\n",
    "        not or and  逻辑运算符"
   ]
  },
  {
   "cell_type": "markdown",
   "metadata": {},
   "source": [
    "# 程序结构\n",
    "- 顺序\n",
    "- 分支\n",
    "- 循环"
   ]
  }
 ],
 "metadata": {
  "kernelspec": {
   "display_name": "Python 3",
   "language": "python",
   "name": "python3"
  },
  "language_info": {
   "codemirror_mode": {
    "name": "ipython",
    "version": 3
   },
   "file_extension": ".py",
   "mimetype": "text/x-python",
   "name": "python",
   "nbconvert_exporter": "python",
   "pygments_lexer": "ipython3",
   "version": "3.7.3"
  }
 },
 "nbformat": 4,
 "nbformat_minor": 2
}
