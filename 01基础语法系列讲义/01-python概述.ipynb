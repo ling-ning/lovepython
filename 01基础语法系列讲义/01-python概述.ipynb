{
 "cells": [
  {
   "cell_type": "markdown",
   "metadata": {},
   "source": [
    "# Python基础\n",
    "\n",
    "## Python概述\n",
    "- 计算机语言概述\n",
    "    - 语言：交流的工具，沟通媒介\n",
    "    - 计算机语言：人跟计算机交流的工具，翻译官\n",
    "    - Python是计算机语言里的一种\n",
    "    - Python编程语言\n",
    "        - 代码：人类语言，同过代码命令机器，跟机器交流\n",
    "        - Python解释器： 就是那个担任翻译工作的二狗子同学\n",
    "        - 流程：\n",
    "            - 写代码\n",
    "            - 执行：由翻译官（Python解释器）把命令（Code）翻译给机器，同事把机器结果翻译给我们\n",
    "    - Python读音问题\n",
    "    - Pythgon简史\n",
    "        - 1989年， Guido van Rossum\n",
    "        - 2008： python3.0 诞生\n",
    "        - 2014： 宣布2.7支持到2020\n",
    "        - 2017： AI元年，Python崛起\n",
    "    - Python特点\n",
    "        - 速度问题\n",
    "        - python跟其他语言的选择问题\n",
    "    - Python的应用领域\n",
    "        - 全能\n",
    "        - 设计哲学：平衡发展，样样通，简洁明了\n",
    "    - Python为什么这么火\n",
    "        - 会不会持续火\n",
    "    - 环境问题\n",
    "        - anaconda+pycharm\n",
    "        - python3.6\n",
    "    - 环境\n",
    "        - 学习环境\n",
    "            - 直播课：网易云课堂\n",
    "            - 讲义+代码： github\n",
    "            - 教科书： gitbook\n",
    "        - 工作环境\n",
    "            - 环境安装：\n",
    "                - gitbook上有\n",
    "                - http://www.cnblogs.com/zhouzhishuai/p/8401103.html\n",
    "        - 操作系统\n",
    "              - windows\n",
    "              - Linux\n",
    "              - MacOX\n",
    "              - 我们的标准系统： windows下开虚拟机，虚拟机安装ubuntu\n",
    "        - 软件环境：\n",
    "            - 不使用Python解释器\n",
    "            - 使用anaconda3+pycharm代替\n",
    "            - 具体环境对各位讲师不做要求\n",
    "    - Python的执行方式\n",
    "        - 本质上Python是一堆命令的集合\n",
    "        - 执行过程是逐行执行，遇到问题即刻终止\n",
    "        - 打印Hello world\n",
    "        \n",
    "      "
   ]
  },
  {
   "cell_type": "code",
   "execution_count": 1,
   "metadata": {
    "scrolled": true
   },
   "outputs": [
    {
     "name": "stdout",
     "output_type": "stream",
     "text": [
      "Hello world\n",
      "图灵学院\n",
      "I love wangmeili\n"
     ]
    }
   ],
   "source": [
    "print(\"Hello world\")\n",
    "print(\"图灵学院\")\n",
    "print(\"I love wangmeili\")"
   ]
  },
  {
   "cell_type": "markdown",
   "metadata": {},
   "source": [
    "## 代码规范\n",
    "- Python官方提供一系列规范PEP文档"
   ]
  },
  {
   "cell_type": "code",
   "execution_count": 2,
   "metadata": {},
   "outputs": [
    {
     "name": "stdout",
     "output_type": "stream",
     "text": [
      "hello,world\n"
     ]
    }
   ],
   "source": [
    "# 代码的作用\n",
    "# 1.给人看\n",
    "# 2.给机器看\n",
    "# 注释是给人看的内容\n",
    "print(\"hello,world\") # 这里面任何内容机器都不管了#"
   ]
  },
  {
   "cell_type": "markdown",
   "metadata": {},
   "source": [
    "## 注释\n",
    "- 机器不会执行注释内容\n",
    "- 注释一般用自然语言书写\n",
    "- 注释的写法：\n",
    "    - 行注释：以“#”开头，可以单独行，也可以在某行代码后边；\n",
    "    - 块注释：好几行代码或者内容，以 ''' 或 \" 开始和结束，中间任何内容机器都忽略\n",
    "- 注释原则：\n",
    "    - 恰当\n",
    "    - 不是越多越好\n",
    "    - 复杂算法\n",
    "    - 不容易懂的代码"
   ]
  },
  {
   "cell_type": "markdown",
   "metadata": {},
   "source": [
    "## 变量\n",
    "- 变量就是可以重复使用的一个量，或者叫一个代号\n",
    "- 变量命名的规则\n",
    "    - 变量命名可以包含数字，大小写字母，下划线或者更多，但是我们不推荐除了前三种内容之外的符号\n",
    "    - 数字不可以打头\n",
    "        - 4man, 5for 是不可以的\n",
    "        - man4, for5 是可以的\n",
    "    - 一般在python中，以下划线开头的内容具有特殊含义，不建议使用\n",
    "        - 比如_age，_name，理论上可以，但强烈不推荐\n",
    "    - 大小写不一样，俗称大小写敏感\n",
    "        - ForMan 跟 forMan不是一个变量名称\n",
    "    - 推荐：\n",
    "        - 使用具有固定含义的英文单词或者缩写，srv=server，skt=socket，一般以posix命名规则为主\n",
    "        - 驼峰命名法\n",
    "            - 名称以单词自动连接，且每个单词首字母大写\n",
    "               - 大驼峰，每个单词第一个字母均大写\n",
    "                   - 在Python中给“类”命名使用此法\n",
    "                   - MyFirstLove, IntOne\n",
    "               - 小驼峰，类似大驼峰，但第一个字母小写                  \n",
    "                   - 在Python中一般给普通变量或者函数命名\n",
    "                   - myFirstLove, intOne\n",
    "               - posix写法\n",
    "                   - 多个单词用下划线链接\n",
    "                   - 单词全部小写\n",
    "                   - my_first_love, int_one\n",
    "     - 保留字和关键字\n",
    "       - 变量命名必须避开，不能跟关键字和保留字重复\n",
    "       - class，def，break，for"
   ]
  },
  {
   "cell_type": "code",
   "execution_count": 3,
   "metadata": {},
   "outputs": [
    {
     "name": "stdout",
     "output_type": "stream",
     "text": [
      "['False', 'None', 'True', 'and', 'as', 'assert', 'async', 'await', 'break', 'class', 'continue', 'def', 'del', 'elif', 'else', 'except', 'finally', 'for', 'from', 'global', 'if', 'import', 'in', 'is', 'lambda', 'nonlocal', 'not', 'or', 'pass', 'raise', 'return', 'try', 'while', 'with', 'yield']\n"
     ]
    }
   ],
   "source": [
    "# 查看关键字的方法\n",
    "import keyword #引入关键字模块\n",
    "# 打印出系统全部关键字\n",
    "print(keyword.kwlist)"
   ]
  },
  {
   "cell_type": "markdown",
   "metadata": {},
   "source": [
    "## 变量声明\n",
    "- var_name = var_value\n",
    "- var1 = var2 = var3 = var_value\n",
    "- var1, var2, var3 = v1, v2, v3"
   ]
  },
  {
   "cell_type": "code",
   "execution_count": 4,
   "metadata": {},
   "outputs": [
    {
     "name": "stdout",
     "output_type": "stream",
     "text": [
      "18\n",
      "18\n"
     ]
    }
   ],
   "source": [
    "# 定义变量age，把18放入变量age中\n",
    "age = 18\n",
    "print(age)\n",
    "print(18)"
   ]
  },
  {
   "cell_type": "code",
   "execution_count": 5,
   "metadata": {},
   "outputs": [
    {
     "name": "stdout",
     "output_type": "stream",
     "text": [
      "18\n",
      "18\n",
      "18\n"
     ]
    }
   ],
   "source": [
    "# 给age1,age2,age3放入同样一个内容或值\n",
    "age1 = age2 = age3 = 18\n",
    "print(age1)\n",
    "print(age2)\n",
    "print(age3)"
   ]
  },
  {
   "cell_type": "code",
   "execution_count": 6,
   "metadata": {},
   "outputs": [
    {
     "ename": "SyntaxError",
     "evalue": "invalid character in identifier (<ipython-input-6-f234a2b1ec4c>, line 2)",
     "output_type": "error",
     "traceback": [
      "\u001b[1;36m  File \u001b[1;32m\"<ipython-input-6-f234a2b1ec4c>\"\u001b[1;36m, line \u001b[1;32m2\u001b[0m\n\u001b[1;33m    age4，age5，age6 = 12,21,45\u001b[0m\n\u001b[1;37m                 ^\u001b[0m\n\u001b[1;31mSyntaxError\u001b[0m\u001b[1;31m:\u001b[0m invalid character in identifier\n"
     ]
    }
   ],
   "source": [
    "# 一行内给多个变量赋值\n",
    "age4，age5，age6 = 12,21,45\n",
    "print(age4)\n",
    "print(age5)\n",
    "print(age6)"
   ]
  },
  {
   "cell_type": "code",
   "execution_count": 7,
   "metadata": {},
   "outputs": [
    {
     "name": "stdout",
     "output_type": "stream",
     "text": [
      "12\n",
      "21\n",
      "45\n"
     ]
    }
   ],
   "source": [
    "# 一行内给多个变量赋值\n",
    "# 注意中文标点符号，会报错\n",
    "age4,age5,age6 = 12,21,45\n",
    "print(age4)\n",
    "print(age5)\n",
    "print(age6)"
   ]
  },
  {
   "cell_type": "markdown",
   "metadata": {},
   "source": [
    "## 变量类型\n",
    "- 严格意义上讲，python只有一个类型\n",
    "    - 标准数据一共六种\n",
    "       - 数字类型Number\n",
    "       - 字符串类型str\n",
    "       - 列表list\n",
    "       - 元组tuple\n",
    "       - 字典 Dictionary\n",
    "       - 集合 set"
   ]
  }
 ],
 "metadata": {
  "kernelspec": {
   "display_name": "Python 3",
   "language": "python",
   "name": "python3"
  },
  "language_info": {
   "codemirror_mode": {
    "name": "ipython",
    "version": 3
   },
   "file_extension": ".py",
   "mimetype": "text/x-python",
   "name": "python",
   "nbconvert_exporter": "python",
   "pygments_lexer": "ipython3",
   "version": "3.7.3"
  }
 },
 "nbformat": 4,
 "nbformat_minor": 2
}
